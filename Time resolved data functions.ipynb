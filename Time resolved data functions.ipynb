{
 "cells": [
  {
   "cell_type": "code",
   "execution_count": 7,
   "metadata": {},
   "outputs": [],
   "source": [
    "#Importing the required packages and creating a reddit instance so that we can use praw to obtain time resolved data.\n",
    "import praw\n",
    "import pandas as pd\n",
    "import datetime as dt\n",
    "import numpy as np\n",
    "import time \n",
    "import matplotlib.pyplot as plt\n",
    "%matplotlib inline\n",
    "\n",
    "reddit = praw.Reddit(client_id='THphXqxKnVtPjg', \n",
    "                     client_secret='mSD1axW8-6e-Stm5p9eJAG5qY7Q', \n",
    "                     user_agent='RGRData', \n",
    "                     username='richgetricherdata', \n",
    "                     password='ByxnbjVnq5UykPu')"
   ]
  },
  {
   "cell_type": "code",
   "execution_count": 8,
   "metadata": {},
   "outputs": [],
   "source": [
    "def score_c(idlist,scoring,timing):\n",
    "    index = list(range(len(idlist)))\n",
    "    for i in index:\n",
    "        comment = reddit.comment(id=idlist[i])\n",
    "        try:\n",
    "            scoring[i,0] = comment.score\n",
    "        except:\n",
    "            scoring[i,0] = np.nan\n",
    "        timing[i,0] = time.time()\n",
    "    return scoring, timing"
   ]
  },
  {
   "cell_type": "code",
   "execution_count": 9,
   "metadata": {},
   "outputs": [],
   "source": [
    "def score_s(idlist,scoring,timing):\n",
    "    index = list(range(len(idlist)))\n",
    "    for i in index:\n",
    "        submission = reddit.submission(id=idlist[i])\n",
    "        try:\n",
    "            scoring[i,0] = submission.score\n",
    "        except:\n",
    "            scoring[i,0] = np.nan\n",
    "        timing[i,0] = time.time()\n",
    "    return scoring, timing"
   ]
  },
  {
   "cell_type": "code",
   "execution_count": 10,
   "metadata": {},
   "outputs": [],
   "source": [
    "def comment_data(sub,n_coms,n_hours): \n",
    "\n",
    "    idlist = []\n",
    "    scoring = np.zeros([n_coms,1])\n",
    "    timing = np.zeros([n_coms,1])\n",
    "    data = np.zeros([n_coms,n_hours + 1])\n",
    "    times = np.zeros([n_coms,n_hours + 1])\n",
    "    scoring[:,:] = np.nan\n",
    "    timing[:,:] = np.nan\n",
    "    data[:,:] = np.nan\n",
    "    times[:,:] = np.nan\n",
    "    subreddit = reddit.subreddit(sub)\n",
    "\n",
    "    for comment in subreddit.stream.comments(skip_existing='true'):\n",
    "        if len(idlist) >= n_coms:\n",
    "            break\n",
    "        idlist = np.append(idlist, comment.id)\n",
    "\n",
    "    print(n_coms, \"comments found at\",dt.datetime.utcfromtimestamp(time.time()+3600*10.5).strftime('%Y-%m-%d %H:%M:%S'),\"attempting to track for\",n_hours,\"hours.\")  \n",
    "    np.savetxt(sub + '_comment_ids_' + str(dt.datetime.today().strftime('%Y-%m-%d')) + '.csv', idlist, delimiter=\",\", fmt='%s', header='IDs')\n",
    "\n",
    "    start_time = round(time.time())\n",
    "    timer = np.arange(start_time, start_time + n_hours*3600 , 3600)\n",
    "\n",
    "    for i in range(n_hours):\n",
    "        while time.time() < timer[i]:\n",
    "            time.sleep(60)\n",
    "        returned = score_c(idlist, scoring, timing)\n",
    "        data[:,i+1] = returned[0].reshape(1,n_coms)\n",
    "        times[:,i+1] = returned[1].reshape(1,n_coms)\n",
    "        np.savetxt(sub + '_comment_data_' + str(dt.datetime.today().strftime('%Y-%m-%d')) + '.csv', data, delimiter=\",\", fmt='%s', header='Score')\n",
    "        np.savetxt(sub + '_comment_times_' + str(dt.datetime.today().strftime('%Y-%m-%d')) + '.csv', times, delimiter=\",\", fmt='%s', header='Time')\n",
    "        print(\"Scoring cycle completed at\",dt.datetime.utcfromtimestamp(time.time()+3600*10.5).strftime('%Y-%m-%d %H:%M:%S'),\".\")\n",
    "\n",
    "    for i in range(n_coms):\n",
    "        try: \n",
    "            posted = reddit.comment(id=idlist[i])\n",
    "            times[i,0] = posted.created_utc\n",
    "            data[i,0] = 1\n",
    "        except: \n",
    "            times[i,0] = times[i,1] - 3600\n",
    "\n",
    "    for i in range(n_coms-1,-1,-1):\n",
    "        if np.sum(np.isnan(data[i,:])) != 0:\n",
    "            data = np.delete(data,i,0)\n",
    "            times = np.delete(times,i,0)      \n",
    "\n",
    "    np.savetxt(sub + '_comment_data_clean_' + str(dt.datetime.today().strftime('%Y-%m-%d')) + '.csv', data, delimiter=\",\", fmt='%s', header='Score')\n",
    "    np.savetxt(sub + '_comment_times_clean_' + str(dt.datetime.today().strftime('%Y-%m-%d')) + '.csv', times, delimiter=\",\", fmt='%s', header='Time')"
   ]
  },
  {
   "cell_type": "code",
   "execution_count": 11,
   "metadata": {},
   "outputs": [],
   "source": [
    "def post_data(sub,n_posts,n_hours): \n",
    "\n",
    "    idlist = []\n",
    "    scoring = np.zeros([n_posts,1])\n",
    "    timing = np.zeros([n_posts,1])\n",
    "    data = np.zeros([n_posts,n_hours + 1])\n",
    "    times = np.zeros([n_posts,n_hours + 1])\n",
    "    scoring[:,:] = np.nan\n",
    "    timing[:,:] = np.nan\n",
    "    data[:,:] = np.nan\n",
    "    times[:,:] = np.nan\n",
    "    subreddit = reddit.subreddit(sub)\n",
    "\n",
    "    for submission in subreddit.stream.submissions(skip_existing='true'):\n",
    "        if len(idlist) >= n_posts:\n",
    "            break\n",
    "        idlist = np.append(idlist, submission.id)\n",
    "\n",
    "    print(n_posts, \"posts found at\",dt.datetime.utcfromtimestamp(time.time()+3600*10.5).strftime('%Y-%m-%d %H:%M:%S'),\"attempting to track for\",n_hours,\"hours.\")  \n",
    "    np.savetxt(sub + '_post_ids_' + str(dt.datetime.today().strftime('%Y-%m-%d')) + '.csv', idlist, delimiter=\",\", fmt='%s', header='IDs')\n",
    "\n",
    "    start_time = round(time.time())\n",
    "    timer = np.arange(start_time, start_time + n_hours*3600 , 3600)\n",
    "\n",
    "    for i in range(n_hours):\n",
    "        while time.time() < timer[i]:\n",
    "            time.sleep(60)\n",
    "        returned = score_s(idlist, scoring, timing)\n",
    "        data[:,i+1] = returned[0].reshape(1,n_posts)\n",
    "        times[:,i+1] = returned[1].reshape(1,n_posts)\n",
    "        np.savetxt(sub + '_post_data_' + str(dt.datetime.today().strftime('%Y-%m-%d')) + '.csv', data, delimiter=\",\", fmt='%s', header='Score')\n",
    "        np.savetxt(sub + '_post_times_' + str(dt.datetime.today().strftime('%Y-%m-%d')) + '.csv', times, delimiter=\",\", fmt='%s', header='Time')\n",
    "        print(\"Scoring cycle completed at\",dt.datetime.utcfromtimestamp(time.time()+3600*10.5).strftime('%Y-%m-%d %H:%M:%S'),\".\")\n",
    "\n",
    "    for i in range(n_posts):\n",
    "        try: \n",
    "            posted = reddit.submission(id=idlist[i])\n",
    "            times[i,0] = posted.created_utc\n",
    "            data[i,0] = 1\n",
    "        except: \n",
    "            times[i,0] = times[i,1] - 3600\n",
    "\n",
    "    for i in range(n_posts-1,-1,-1):\n",
    "        if np.sum(np.isnan(data[i,:])) != 0:\n",
    "            data = np.delete(data,i,0)\n",
    "            times = np.delete(times,i,0)      \n",
    "\n",
    "    np.savetxt(sub + '_post_data_clean_' + str(dt.datetime.today().strftime('%Y-%m-%d')) + '.csv', data, delimiter=\",\", fmt='%s', header='Score')\n",
    "    np.savetxt(sub + '_post_times_clean_' + str(dt.datetime.today().strftime('%Y-%m-%d')) + '.csv', times, delimiter=\",\", fmt='%s', header='Time')"
   ]
  },
  {
   "cell_type": "code",
   "execution_count": 12,
   "metadata": {
    "scrolled": true
   },
   "outputs": [
    {
     "name": "stdout",
     "output_type": "stream",
     "text": [
      "20 comments found at 2019-01-18 14:00:25 attempting to track for 1 hours.\n",
      "Scoring cycle completed at 2019-01-18 14:04:24 .\n"
     ]
    }
   ],
   "source": [
    "comment_data('all',20,1)"
   ]
  },
  {
   "cell_type": "code",
   "execution_count": null,
   "metadata": {},
   "outputs": [],
   "source": []
  }
 ],
 "metadata": {
  "kernelspec": {
   "display_name": "Python 3",
   "language": "python",
   "name": "python3"
  },
  "language_info": {
   "codemirror_mode": {
    "name": "ipython",
    "version": 3
   },
   "file_extension": ".py",
   "mimetype": "text/x-python",
   "name": "python",
   "nbconvert_exporter": "python",
   "pygments_lexer": "ipython3",
   "version": "3.7.0"
  }
 },
 "nbformat": 4,
 "nbformat_minor": 2
}
